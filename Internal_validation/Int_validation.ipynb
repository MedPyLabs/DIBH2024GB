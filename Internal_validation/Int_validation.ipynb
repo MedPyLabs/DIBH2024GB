{
 "cells": [
  {
   "cell_type": "code",
   "execution_count": 1,
   "id": "5a7c227e-0c97-4fbd-8892-d25d2382b7cd",
   "metadata": {},
   "outputs": [],
   "source": [
    "import sys\n",
    "import os\n",
    "# Add the parent directory to the system path\n",
    "sys.path.append(os.path.abspath(os.path.join('..')))\n",
    "import joblib\n",
    "import pandas as pd\n",
    "from sklearn.model_selection import train_test_split\n",
    "from sklearn.metrics import (accuracy_score, precision_score, recall_score, \n",
    "f1_score, roc_auc_score, roc_curve, auc, confusion_matrix, classification_report)\n",
    "from sklearn.utils import resample"
   ]
  },
  {
   "cell_type": "code",
   "execution_count": 2,
   "id": "ae65a007-a8a2-4c00-b57d-38d24a1ed3c9",
   "metadata": {},
   "outputs": [],
   "source": [
    "from utilities import bs_calibrate, bs_results, utils"
   ]
  },
  {
   "cell_type": "markdown",
   "id": "8effd064-1b2a-425b-a360-3fd75ca0d990",
   "metadata": {},
   "source": [
    "## Load the data"
   ]
  },
  {
   "cell_type": "code",
   "execution_count": 3,
   "id": "1d1d6025-0360-4bef-8bd8-2557ab169210",
   "metadata": {},
   "outputs": [],
   "source": [
    "# df = pd.read_csv(\"../dibh_clinical_only/original_training_data.csv\")\n",
    "df = pd.read_csv(\"/Users/chufal/projects/DIBHproject/dibh_clinical_only/original_training_data.csv\")\n",
    "data_day1 = df[df['day'] == 1]\n",
    "X = data_day1.drop(['crnumber', 'day', 'DIBH_Y0N1'], axis=1)\n",
    "y = data_day1['DIBH_Y0N1']\n",
    "X_t, X_v, y_t, y_v = train_test_split(X, y, test_size=0.30, random_state=42)\n",
    "\n",
    "# df_internal_val = pd.read_csv(\"../dibh_clinical_only/final_internal_validation13052024.csv\")\n",
    "df_internal_val = pd.read_csv(\"/Users/chufal/projects/DIBHproject/dibh_clinical_only/final_internal_validation13052024.csv\")\n",
    "data_day1_val = df_internal_val[df_internal_val['day'] == 1]\n",
    "X_int_val = data_day1_val.drop(['crnumber', 'day', 'DIBH_Y0N1'], axis=1)\n",
    "y_int_val = data_day1_val['DIBH_Y0N1']\n"
   ]
  },
  {
   "cell_type": "markdown",
   "id": "3314eff4-2f43-4984-832e-3c0e3440bc8c",
   "metadata": {},
   "source": [
    "## Load the model information for all ML models"
   ]
  },
  {
   "cell_type": "code",
   "execution_count": 4,
   "id": "adcb6f05-18b6-4c89-803d-f64e3083afa3",
   "metadata": {},
   "outputs": [],
   "source": [
    "# xgb_load_models_info = joblib.load('../results/training_data/top_models_xgb.joblib')\n",
    "# cb_load_models_info = joblib.load('../results/training_data/top_models_cb.joblib')\n",
    "# lgbm_load_models_info = joblib.load('../results/training_data/top_models_lgbm.joblib')\n",
    "# gb_load_models_info = joblib.load('../results/training_data/top_models_gb.joblib')\n",
    "# rf_load_models_info = joblib.load('../results/training_data/top_models_rf.joblib')\n",
    "# nb_load_models_info = joblib.load('../results/training_data/top_models_nb.joblib')\n",
    "# svm_load_models_info = joblib.load('../results/training_data/top_models_svm.joblib')\n",
    "# knn_load_models_info = joblib.load('../results/training_data/top_models_knn.joblib')\n",
    "# lr_load_models_info = joblib.load('../results/training_data/top_models_lr.joblib')\n"
   ]
  },
  {
   "cell_type": "markdown",
   "id": "4eef4cff-0f95-4eba-9a0b-fca287387193",
   "metadata": {},
   "source": [
    "## Create Ensemble for all the ML models"
   ]
  },
  {
   "cell_type": "code",
   "execution_count": 5,
   "id": "2e4cad60-7b72-4576-82ec-af6140e78188",
   "metadata": {},
   "outputs": [],
   "source": [
    "\n",
    "# ensemble_model_xgb = utils.create_ensemble_model(xgb_load_models_info)\n",
    "# ensemble_model_cb = utils.create_ensemble_model(cb_load_models_info)\n",
    "# ensemble_model_lgbm = utils.create_ensemble_model(lgbm_load_models_info)\n",
    "# ensemble_model_gb = utils.create_ensemble_model(gb_load_models_info)\n",
    "# ensemble_model_rf = utils.create_ensemble_model(rf_load_models_info)\n",
    "# ensemble_model_nb = utils.create_ensemble_model(nb_load_models_info)\n",
    "# ensemble_model_svm = utils.create_ensemble_model(svm_load_models_info)\n",
    "# ensemble_model_knn = utils.create_ensemble_model(knn_load_models_info)\n",
    "# ensemble_model_lr = utils.create_ensemble_model(lr_load_models_info)\n",
    "\n",
    "# ensemble_model_xgb_non_calibrated = utils.create_ensemble_model(xgb_load_models_info, calibration=False)\n",
    "# ensemble_model_cb_non_calibrated = utils.create_ensemble_model(cb_load_models_info, calibration=False)\n",
    "# ensemble_model_lgbm_non_calibrated = utils.create_ensemble_model(lgbm_load_models_info, calibration=False)\n",
    "# ensemble_model_gb_non_calibrated = utils.create_ensemble_model(gb_load_models_info, calibration=False)\n",
    "# ensemble_model_rf_non_calibrated = utils.create_ensemble_model(rf_load_models_info, calibration=False)\n",
    "# ensemble_model_nb_non_calibrated = utils.create_ensemble_model(nb_load_models_info, calibration=False)\n",
    "# ensemble_model_svm_non_calibrated = utils.create_ensemble_model(svm_load_models_info, calibration=False)\n",
    "# ensemble_model_knn_non_calibrated = utils.create_ensemble_model(knn_load_models_info, calibration=False)\n",
    "# ensemble_model_lr_non_calibrated = utils.create_ensemble_model(lr_load_models_info, calibration=False)"
   ]
  },
  {
   "cell_type": "markdown",
   "id": "bd654ace-8604-4cbd-9270-677a0b292324",
   "metadata": {},
   "source": [
    "## Fit the ensemble model on the training data"
   ]
  },
  {
   "cell_type": "code",
   "execution_count": 6,
   "id": "fa666400-90f7-4a0d-acef-b7733d3f128a",
   "metadata": {},
   "outputs": [],
   "source": [
    "\n",
    "# ensemble_model_xgb.fit(X,y)\n",
    "# ensemble_model_cb.fit(X,y)\n",
    "# ensemble_model_lgbm.fit(X,y)\n",
    "# ensemble_model_gb.fit(X,y)\n",
    "# ensemble_model_rf.fit(X,y)\n",
    "# ensemble_model_nb.fit(X,y)\n",
    "# ensemble_model_svm.fit(X,y)\n",
    "# ensemble_model_knn.fit(X,y)\n",
    "# ensemble_model_lr.fit(X,y)\n",
    "\n",
    "# ensemble_model_xgb_non_calibrated.fit(X,y)\n",
    "# ensemble_model_cb_non_calibrated.fit(X,y) \n",
    "# ensemble_model_lgbm_non_calibrated.fit(X,y)\n",
    "# ensemble_model_gb_non_calibrated.fit(X,y) \n",
    "# ensemble_model_rf_non_calibrated.fit(X,y) \n",
    "# ensemble_model_nb_non_calibrated.fit(X,y) \n",
    "# ensemble_model_svm_non_calibrated.fit(X,y)\n",
    "# ensemble_model_knn_non_calibrated.fit(X,y)\n",
    "# ensemble_model_lr_non_calibrated.fit(X,y)\n"
   ]
  },
  {
   "cell_type": "markdown",
   "id": "2a6fb687-5c41-448c-a33c-2d2bff3313ce",
   "metadata": {},
   "source": [
    "## Save all the ensemble models"
   ]
  },
  {
   "cell_type": "code",
   "execution_count": 7,
   "id": "51edeaa0-b5d3-45af-ab88-86320ca4094a",
   "metadata": {},
   "outputs": [],
   "source": [
    "# joblib.dump(ensemble_model_xgb, '../results/models/xgb_ensemble_model')\n",
    "# joblib.dump(ensemble_model_cb, '../results/models/cb_ensemble_model')\n",
    "# joblib.dump(ensemble_model_lgbm, '../results/models/lgbm_ensemble_model')\n",
    "# joblib.dump(ensemble_model_gb, '../results/models/gb_ensemble_model')\n",
    "# joblib.dump(ensemble_model_rf, '../results/models/rf_ensemble_model')\n",
    "# joblib.dump(ensemble_model_nb, '../results/models/nb_ensemble_model')\n",
    "# joblib.dump(ensemble_model_svm, '../results/models/svm_ensemble_model')\n",
    "# joblib.dump(ensemble_model_lr, '../results/models/lr_ensemble_model')\n",
    "# joblib.dump(ensemble_model_knn, '../results/models/knn_ensemble_model')\n",
    "\n",
    "# # Save the non-calibrated models\n",
    "# joblib.dump(ensemble_model_xgb_non_calibrated, '../results/models/xgb_non_calibrated_ensemble_model')\n",
    "# joblib.dump(ensemble_model_cb_non_calibrated, '../results/models/cb_non_calibrated_ensemble_model')\n",
    "# joblib.dump(ensemble_model_lgbm_non_calibrated, '../results/models/lgbm_non_calibrated_ensemble_model')\n",
    "# joblib.dump(ensemble_model_gb_non_calibrated, '../results/models/gb_non_calibrated_ensemble_model')\n",
    "# joblib.dump(ensemble_model_rf_non_calibrated, '../results/models/rf_non_calibrated_ensemble_model')\n",
    "# joblib.dump(ensemble_model_nb_non_calibrated, '../results/models/nb_non_calibrated_ensemble_model')\n",
    "# joblib.dump(ensemble_model_svm_non_calibrated, '../results/models/svm_non_calibrated_ensemble_model')\n",
    "# joblib.dump(ensemble_model_lr_non_calibrated, '../results/models/lr_non_calibrated_ensemble_model')\n",
    "# joblib.dump(ensemble_model_knn_non_calibrated, '../results/models/knn_non_calibrated_ensemble_model')"
   ]
  },
  {
   "cell_type": "markdown",
   "id": "e0c9192c-3187-405a-bbc5-27d848ff1fa6",
   "metadata": {},
   "source": [
    "## Loading all the models"
   ]
  },
  {
   "cell_type": "code",
   "execution_count": 8,
   "id": "0ad4f790-7db1-444a-981e-b9656333ec50",
   "metadata": {},
   "outputs": [],
   "source": [
    "# Load the saved models\n",
    "ensemble_model_xgb = joblib.load('../results/models/xgb_ensemble_model')\n",
    "ensemble_model_cb = joblib.load('../results/models/cb_ensemble_model')\n",
    "ensemble_model_lgbm = joblib.load('../results/models/lgbm_ensemble_model')\n",
    "ensemble_model_gb = joblib.load('../results/models/gb_ensemble_model')\n",
    "ensemble_model_rf = joblib.load('../results/models/rf_ensemble_model')\n",
    "ensemble_model_nb = joblib.load('../results/models/nb_ensemble_model')\n",
    "ensemble_model_svm = joblib.load('../results/models/svm_ensemble_model')\n",
    "ensemble_model_lr = joblib.load('../results/models/lr_ensemble_model')\n",
    "ensemble_model_knn = joblib.load('../results/models/knn_ensemble_model')\n",
    "\n",
    "# Load the saved non-calibrated models\n",
    "ensemble_model_xgb_non_calibrated = joblib.load('../results/models/xgb_non_calibrated_ensemble_model')\n",
    "ensemble_model_cb_non_calibrated = joblib.load('../results/models/cb_non_calibrated_ensemble_model')\n",
    "ensemble_model_lgbm_non_calibrated = joblib.load('../results/models/lgbm_non_calibrated_ensemble_model')\n",
    "ensemble_model_gb_non_calibrated = joblib.load('../results/models/gb_non_calibrated_ensemble_model')\n",
    "ensemble_model_rf_non_calibrated = joblib.load('../results/models/rf_non_calibrated_ensemble_model')\n",
    "ensemble_model_nb_non_calibrated = joblib.load('../results/models/nb_non_calibrated_ensemble_model')\n",
    "ensemble_model_svm_non_calibrated = joblib.load('../results/models/svm_non_calibrated_ensemble_model')\n",
    "ensemble_model_lr_non_calibrated = joblib.load('../results/models/lr_non_calibrated_ensemble_model')\n",
    "ensemble_model_knn_non_calibrated = joblib.load('../results/models/knn_non_calibrated_ensemble_model')\n"
   ]
  },
  {
   "cell_type": "markdown",
   "id": "3bc32922-457c-49b4-b3a5-3d768719864a",
   "metadata": {},
   "source": [
    "## Bootstrap Evaluation"
   ]
  },
  {
   "cell_type": "code",
   "execution_count": 9,
   "id": "1429d079-4e8f-4aec-86b6-a479f3b1aeee",
   "metadata": {},
   "outputs": [],
   "source": [
    "# Create a list of the loaded models\n",
    "models = [ensemble_model_xgb, ensemble_model_cb, ensemble_model_lgbm, ensemble_model_gb,\n",
    "          ensemble_model_rf, ensemble_model_nb, ensemble_model_svm, ensemble_model_knn, \n",
    "          ensemble_model_lr]\n",
    "\n",
    "model_names = ['xgb', 'cb', 'lgbm', 'gb', 'rf', 'nb', 'svm', 'knn', 'lr']\n",
    "\n",
    "# Create a list of the loaded non-calibrated models\n",
    "non_calibrated_models = [ensemble_model_xgb_non_calibrated, ensemble_model_cb_non_calibrated, ensemble_model_lgbm_non_calibrated,\n",
    "                         ensemble_model_gb_non_calibrated, ensemble_model_rf_non_calibrated, ensemble_model_nb_non_calibrated, \n",
    "                         ensemble_model_svm_non_calibrated, ensemble_model_knn_non_calibrated, ensemble_model_lr_non_calibrated\n",
    "]\n",
    "\n",
    "non_calibrated_model_names = ['xgb_non_calibrated', 'cb_non_calibrated', 'lgbm_non_calibrated', 'gb_non_calibrated', 'rf_non_calibrated', \n",
    "                              'nb_non_calibrated', 'svm_non_calibrated', 'knn_non_calibrated', 'lr_non_calibrated'\n",
    "]\n",
    "\n"
   ]
  },
  {
   "cell_type": "code",
   "execution_count": 11,
   "id": "d53b8495-3bac-4ee3-9af3-7f0c1a758bc6",
   "metadata": {},
   "outputs": [
    {
     "name": "stdout",
     "output_type": "stream",
     "text": [
      "Bootstrap Evaluation done for -- xgb_non_calibrated\n",
      "Bootstrap Evaluation done for -- cb_non_calibrated\n",
      "Bootstrap Evaluation done for -- lgbm_non_calibrated\n",
      "Bootstrap Evaluation done for -- gb_non_calibrated\n",
      "Bootstrap Evaluation done for -- rf_non_calibrated\n",
      "Bootstrap Evaluation done for -- nb_non_calibrated\n",
      "Bootstrap Evaluation done for -- svm_non_calibrated\n",
      "Bootstrap Evaluation done for -- knn_non_calibrated\n",
      "Bootstrap Evaluation done for -- lr_non_calibrated\n"
     ]
    }
   ],
   "source": [
    "probabilities_df_non_calibrated, metrics_df_non_calibrated = utils.evaluate_models_with_ci(non_calibrated_models, non_calibrated_model_names, \n",
    "                                                                                   X_int_val, y_int_val)"
   ]
  },
  {
   "cell_type": "code",
   "execution_count": 12,
   "id": "b4db3d5c-5c42-4c2b-aeed-da956dcb4ef0",
   "metadata": {},
   "outputs": [
    {
     "name": "stdout",
     "output_type": "stream",
     "text": [
      "Bootstrap Evaluation done for -- xgb\n",
      "Bootstrap Evaluation done for -- cb\n",
      "Bootstrap Evaluation done for -- lgbm\n",
      "Bootstrap Evaluation done for -- gb\n",
      "Bootstrap Evaluation done for -- rf\n",
      "Bootstrap Evaluation done for -- nb\n",
      "Bootstrap Evaluation done for -- svm\n",
      "Bootstrap Evaluation done for -- knn\n",
      "Bootstrap Evaluation done for -- lr\n"
     ]
    }
   ],
   "source": [
    "probabilities_df_calibrated, metrics_df_calibrated = utils.evaluate_models_with_ci(models, model_names, X_int_val, y_int_val)"
   ]
  },
  {
   "cell_type": "markdown",
   "id": "72ed15b8-7c8a-42f9-a7b4-9046abc451fb",
   "metadata": {},
   "source": [
    "## Save the dataframes to CSV files"
   ]
  },
  {
   "cell_type": "code",
   "execution_count": 15,
   "id": "f347985d-750a-4bc6-a28b-64f0a87294a9",
   "metadata": {},
   "outputs": [],
   "source": [
    "probabilities_df_calibrated.to_csv('../results/int_val_data/model_probabilities_calibrated.csv', index=False)\n",
    "metrics_df_calibrated.to_csv('../results/int_val_data/model_metrics_calibrated.csv', index=False)\n",
    "probabilities_df_non_calibrated.to_csv('../results/int_val_data/model_probabilities_non_calibrated.csv', index=False)\n",
    "metrics_df_non_calibrated.to_csv('../results/int_val_data/model_metrics_non_calibrated.csv', index=False)"
   ]
  },
  {
   "cell_type": "markdown",
   "id": "75cf983b-7eb3-44b6-b137-cf681cc38cec",
   "metadata": {},
   "source": [
    "## Save the dataframes as python objects"
   ]
  },
  {
   "cell_type": "code",
   "execution_count": 16,
   "id": "3c6dff2e-732f-49cf-af05-56354fdd1103",
   "metadata": {},
   "outputs": [
    {
     "data": {
      "text/plain": [
       "['../results/int_val_data/metrics_df_non_calibrated.joblib']"
      ]
     },
     "execution_count": 16,
     "metadata": {},
     "output_type": "execute_result"
    }
   ],
   "source": [
    "joblib.dump(probabilities_df_calibrated, '../results/int_val_data/probabilities_df_calibrated.joblib')\n",
    "joblib.dump(metrics_df_calibrated, '../results/int_val_data/metrics_df_calibrated.joblib')\n",
    "joblib.dump(probabilities_df_non_calibrated, '../results/int_val_data/probabilities_df_non_calibrated.joblib')\n",
    "joblib.dump(metrics_df_non_calibrated, '../results/int_val_data/metrics_df_non_calibrated.joblib')"
   ]
  },
  {
   "cell_type": "code",
   "execution_count": null,
   "id": "7b13c762-292c-4934-beb0-d8226d90641c",
   "metadata": {},
   "outputs": [],
   "source": []
  },
  {
   "cell_type": "code",
   "execution_count": null,
   "id": "c430c9a2-aba7-4edd-a409-32dbf48bafa2",
   "metadata": {},
   "outputs": [],
   "source": []
  },
  {
   "cell_type": "code",
   "execution_count": null,
   "id": "b3326aad-041b-4f32-9f1b-fcf47e9dee09",
   "metadata": {},
   "outputs": [],
   "source": []
  },
  {
   "cell_type": "code",
   "execution_count": null,
   "id": "ac89137e-72ec-493f-9759-43625e87e287",
   "metadata": {},
   "outputs": [],
   "source": []
  },
  {
   "cell_type": "code",
   "execution_count": null,
   "id": "cbf2b1d2-2a92-4590-8623-fce8e7c048e5",
   "metadata": {},
   "outputs": [],
   "source": []
  },
  {
   "cell_type": "code",
   "execution_count": null,
   "id": "31d9e23e-eb95-4220-aa94-b42e1539e0e8",
   "metadata": {},
   "outputs": [],
   "source": []
  },
  {
   "cell_type": "code",
   "execution_count": null,
   "id": "1998d477-3790-49fd-afbb-ef3290386771",
   "metadata": {},
   "outputs": [],
   "source": []
  },
  {
   "cell_type": "code",
   "execution_count": null,
   "id": "93d208d9-4d32-41a2-aeff-26ecbfae35dc",
   "metadata": {},
   "outputs": [],
   "source": []
  },
  {
   "cell_type": "code",
   "execution_count": null,
   "id": "fca3e610-ae1f-419d-8eb7-fac83a33c2d4",
   "metadata": {},
   "outputs": [],
   "source": []
  },
  {
   "cell_type": "code",
   "execution_count": null,
   "id": "3d6ac2e5-81dd-4be9-a548-911ed99f56a2",
   "metadata": {},
   "outputs": [],
   "source": []
  },
  {
   "cell_type": "code",
   "execution_count": null,
   "id": "d7abefc5-217d-49da-995c-9a72244690b6",
   "metadata": {},
   "outputs": [],
   "source": []
  },
  {
   "cell_type": "code",
   "execution_count": null,
   "id": "99581441-229e-4069-9821-2939b8b7177d",
   "metadata": {},
   "outputs": [],
   "source": []
  },
  {
   "cell_type": "code",
   "execution_count": null,
   "id": "f49c8b86-b112-4ed9-9e02-59ea5ff260a1",
   "metadata": {},
   "outputs": [],
   "source": []
  },
  {
   "cell_type": "code",
   "execution_count": null,
   "id": "ba69919e-dbd3-482c-a3e8-b39d39d7da5c",
   "metadata": {},
   "outputs": [],
   "source": []
  },
  {
   "cell_type": "code",
   "execution_count": null,
   "id": "c0572268-ffeb-43ae-ad5e-ddeffb97f3f6",
   "metadata": {},
   "outputs": [],
   "source": []
  },
  {
   "cell_type": "code",
   "execution_count": null,
   "id": "7336e958-d3d9-4c0b-99f9-f38c1053d822",
   "metadata": {},
   "outputs": [],
   "source": []
  },
  {
   "cell_type": "code",
   "execution_count": null,
   "id": "2a8938dd-9c35-46a2-b463-ef69a686a362",
   "metadata": {},
   "outputs": [],
   "source": []
  },
  {
   "cell_type": "code",
   "execution_count": null,
   "id": "03ce4eaa-9c38-48cb-85a4-76fb6f076c32",
   "metadata": {},
   "outputs": [],
   "source": []
  },
  {
   "cell_type": "code",
   "execution_count": null,
   "id": "ca9b27f9-ce93-4923-9a92-1633dfbc21ee",
   "metadata": {},
   "outputs": [],
   "source": []
  },
  {
   "cell_type": "code",
   "execution_count": null,
   "id": "653e8a7e-66c5-4332-a9c2-6300b4369a6f",
   "metadata": {},
   "outputs": [],
   "source": []
  },
  {
   "cell_type": "code",
   "execution_count": null,
   "id": "f55ad5d6-1b27-4b36-a9bc-da7484a94883",
   "metadata": {},
   "outputs": [],
   "source": []
  },
  {
   "cell_type": "code",
   "execution_count": null,
   "id": "728a3937-b01b-4220-a82b-d3b15b4b9637",
   "metadata": {},
   "outputs": [],
   "source": []
  },
  {
   "cell_type": "code",
   "execution_count": null,
   "id": "72d144b5-bf60-4974-acb6-22ff87f41544",
   "metadata": {},
   "outputs": [],
   "source": []
  },
  {
   "cell_type": "code",
   "execution_count": null,
   "id": "c326460e-ea3b-4f79-9cd4-349c01d6b4f7",
   "metadata": {},
   "outputs": [],
   "source": []
  },
  {
   "cell_type": "code",
   "execution_count": null,
   "id": "6f8b60b6-f24c-4d4f-86e5-ed21216bab0b",
   "metadata": {},
   "outputs": [],
   "source": []
  },
  {
   "cell_type": "code",
   "execution_count": null,
   "id": "7ebf20e7-d5b5-451e-92d0-f7d84bff8a92",
   "metadata": {},
   "outputs": [],
   "source": []
  },
  {
   "cell_type": "code",
   "execution_count": null,
   "id": "7f1b9517-b8fb-4b2a-b458-2585036ffae5",
   "metadata": {},
   "outputs": [],
   "source": []
  }
 ],
 "metadata": {
  "kernelspec": {
   "display_name": "Python 3 (ipykernel)",
   "language": "python",
   "name": "python3"
  },
  "language_info": {
   "codemirror_mode": {
    "name": "ipython",
    "version": 3
   },
   "file_extension": ".py",
   "mimetype": "text/x-python",
   "name": "python",
   "nbconvert_exporter": "python",
   "pygments_lexer": "ipython3",
   "version": "3.11.1"
  }
 },
 "nbformat": 4,
 "nbformat_minor": 5
}
