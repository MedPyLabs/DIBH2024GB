{
 "cells": [
  {
   "cell_type": "code",
   "execution_count": 1,
   "id": "5a7c227e-0c97-4fbd-8892-d25d2382b7cd",
   "metadata": {},
   "outputs": [],
   "source": [
    "import sys\n",
    "import os\n",
    "# Add the parent directory to the system path\n",
    "sys.path.append(os.path.abspath(os.path.join('..')))\n",
    "import joblib\n",
    "import pandas as pd\n",
    "from sklearn.model_selection import train_test_split\n",
    "from sklearn.metrics import (accuracy_score, precision_score, recall_score, \n",
    "f1_score, roc_auc_score, roc_curve, auc, confusion_matrix, classification_report)\n",
    "from sklearn.utils import resample\n",
    "from sklearn.exceptions import NotFittedError\n",
    "from sklearn.utils.validation import check_is_fitted"
   ]
  },
  {
   "cell_type": "code",
   "execution_count": 2,
   "id": "ae65a007-a8a2-4c00-b57d-38d24a1ed3c9",
   "metadata": {},
   "outputs": [],
   "source": [
    "from utilities import bs_calibrate, bs_results, utils"
   ]
  },
  {
   "cell_type": "markdown",
   "id": "8effd064-1b2a-425b-a360-3fd75ca0d990",
   "metadata": {},
   "source": [
    "## Load the data"
   ]
  },
  {
   "cell_type": "code",
   "execution_count": 3,
   "id": "1d1d6025-0360-4bef-8bd8-2557ab169210",
   "metadata": {},
   "outputs": [],
   "source": [
    "# df = pd.read_csv(\"../dibh_clinical_only/original_training_data.csv\")\n",
    "df = pd.read_csv(\"/Users/chufal/projects/DIBHproject/dibh_clinical_only/original_training_data.csv\")\n",
    "data_day1 = df[df['day'] == 1]\n",
    "X = data_day1.drop(['crnumber', 'day', 'DIBH_Y0N1'], axis=1)\n",
    "y = data_day1['DIBH_Y0N1']\n",
    "X_t, X_v, y_t, y_v = train_test_split(X, y, test_size=0.30, random_state=42)\n",
    "\n",
    "# df_internal_val = pd.read_csv(\"../dibh_clinical_only/final_internal_validation13052024.csv\")\n",
    "df_internal_val = pd.read_csv(\"/Users/chufal/projects/DIBHproject/dibh_clinical_only/final_internal_validation13052024.csv\")\n",
    "data_day1_val = df_internal_val[df_internal_val['day'] == 1]\n",
    "X_int_val = data_day1_val.drop(['crnumber', 'day', 'DIBH_Y0N1'], axis=1)\n",
    "y_int_val = data_day1_val['DIBH_Y0N1']\n"
   ]
  },
  {
   "cell_type": "markdown",
   "id": "3314eff4-2f43-4984-832e-3c0e3440bc8c",
   "metadata": {},
   "source": [
    "## Load the model information for all ML models"
   ]
  },
  {
   "cell_type": "code",
   "execution_count": 10,
   "id": "adcb6f05-18b6-4c89-803d-f64e3083afa3",
   "metadata": {},
   "outputs": [],
   "source": [
    "xgb_load_models_info = joblib.load('../results/bs_training_data/python_objects/top_models_xgb.joblib')\n",
    "cb_load_models_info = joblib.load('../results/bs_training_data/python_objects/top_models_cb.joblib')\n",
    "lgbm_load_models_info = joblib.load('../results/bs_training_data/python_objects/top_models_lgbm.joblib')\n",
    "gb_load_models_info = joblib.load('../results/bs_training_data/python_objects/top_models_gb.joblib')\n",
    "rf_load_models_info = joblib.load('../results/bs_training_data/python_objects/top_models_rf.joblib')\n",
    "nb_load_models_info = joblib.load('../results/bs_training_data/python_objects/top_models_nb.joblib')\n",
    "svm_load_models_info = joblib.load('../results/bs_training_data/python_objects/top_models_svm.joblib')\n",
    "knn_load_models_info = joblib.load('../results/bs_training_data/python_objects/top_models_knn.joblib')\n",
    "lr_load_models_info = joblib.load('../results/bs_training_data/python_objects/top_models_lr.joblib')\n",
    "\n",
    "xgb_load_model = joblib.load('../results/non_bs_training_data/models/non_bs_model_xgb.joblib')\n",
    "cb_load_model = joblib.load('../results/non_bs_training_data/models/non_bs_model_cb.joblib')\n",
    "lgbm_load_model = joblib.load('../results/non_bs_training_data/models/non_bs_model_lgbm.joblib')\n",
    "gb_load_model = joblib.load('../results/non_bs_training_data/models/non_bs_model_gb.joblib')\n",
    "rf_load_model = joblib.load('../results/non_bs_training_data/models/non_bs_model_rf.joblib')\n",
    "nb_load_model = joblib.load('../results/non_bs_training_data/models/non_bs_model_nb.joblib')\n",
    "svm_load_model = joblib.load('../results/non_bs_training_data/models/non_bs_model_svm.joblib')\n",
    "knn_load_model = joblib.load('../results/non_bs_training_data/models/non_bs_model_knn.joblib')\n",
    "lr_load_model = joblib.load('../results/non_bs_training_data/models/non_bs_model_lr.joblib')\n"
   ]
  },
  {
   "cell_type": "code",
   "execution_count": 11,
   "id": "9d32e2e5-7b2e-4e41-bc65-e30485aae72d",
   "metadata": {},
   "outputs": [
    {
     "data": {
      "text/plain": [
       "dict_keys(['model_calibrated', 'fpr_calibrated', 'tpr_calibrated', 'thresholds_calibrated', 'roc_auc_calibrated', 'optimal_threshold_calibrated', 'accuracy_calibrated', 'precision_calibrated', 'recall_calibrated', 'f1_score_calibrated', 'confusion_matrix_calibrated', 'classification_report_calibrated', 'feature_importances_calibrated', 'model_non_calibrated', 'fpr_non_calibrated', 'tpr_non_calibrated', 'thresholds_non_calibrated', 'roc_auc_non_calibrated', 'optimal_threshold_non_calibrated', 'accuracy_non_calibrated', 'precision_non_calibrated', 'recall_non_calibrated', 'f1_score_non_calibrated', 'confusion_matrix_non_calibrated', 'classification_report_non_calibrated', 'feature_importances_non_calibrated'])"
      ]
     },
     "execution_count": 11,
     "metadata": {},
     "output_type": "execute_result"
    }
   ],
   "source": [
    "xgb_load_models_info[0].keys()"
   ]
  },
  {
   "cell_type": "code",
   "execution_count": 12,
   "id": "21c14f0d-6b04-4b3c-9b0c-ff6e3911b87d",
   "metadata": {},
   "outputs": [
    {
     "name": "stdout",
     "output_type": "stream",
     "text": [
      "Model is fitted to new data\n"
     ]
    }
   ],
   "source": [
    "try:\n",
    "    check_model = xgb_load_models_info[0][\"model_calibrated\"]\n",
    "    check_is_fitted(check_model)\n",
    "    check_model.fit(X,y)\n",
    "    print(\"Model is fitted to new data\")\n",
    "              \n",
    "except NotFittedError:\n",
    "    print(\"Not Fitted\")\n"
   ]
  },
  {
   "cell_type": "markdown",
   "id": "0d300d4b-6501-4052-81dc-5c4f17ae464c",
   "metadata": {},
   "source": [
    "## Create Ensemble for all ML models without optimal threasholds"
   ]
  },
  {
   "cell_type": "code",
   "execution_count": 13,
   "id": "e197b437-98c2-45a9-a5e7-03e12e54521c",
   "metadata": {},
   "outputs": [],
   "source": [
    "ensemble_model_xgb = utils.create_ensemble_model(xgb_load_models_info)\n",
    "ensemble_model_cb = utils.create_ensemble_model(cb_load_models_info)\n",
    "ensemble_model_lgbm = utils.create_ensemble_model(lgbm_load_models_info)\n",
    "ensemble_model_gb = utils.create_ensemble_model(gb_load_models_info)\n",
    "ensemble_model_rf = utils.create_ensemble_model(rf_load_models_info)\n",
    "ensemble_model_nb = utils.create_ensemble_model(nb_load_models_info)\n",
    "ensemble_model_svm = utils.create_ensemble_model(svm_load_models_info)\n",
    "ensemble_model_knn = utils.create_ensemble_model(knn_load_models_info)\n",
    "ensemble_model_lr = utils.create_ensemble_model(lr_load_models_info)\n",
    "\n",
    "ensemble_model_xgb_non_calibrated = utils.create_ensemble_model(xgb_load_models_info, calibration=False)\n",
    "ensemble_model_cb_non_calibrated = utils.create_ensemble_model(cb_load_models_info, calibration=False)\n",
    "ensemble_model_lgbm_non_calibrated = utils.create_ensemble_model(lgbm_load_models_info, calibration=False)\n",
    "ensemble_model_gb_non_calibrated = utils.create_ensemble_model(gb_load_models_info, calibration=False)\n",
    "ensemble_model_rf_non_calibrated = utils.create_ensemble_model(rf_load_models_info, calibration=False)\n",
    "ensemble_model_nb_non_calibrated = utils.create_ensemble_model(nb_load_models_info, calibration=False)\n",
    "ensemble_model_svm_non_calibrated = utils.create_ensemble_model(svm_load_models_info, calibration=False)\n",
    "ensemble_model_knn_non_calibrated = utils.create_ensemble_model(knn_load_models_info, calibration=False)\n",
    "ensemble_model_lr_non_calibrated = utils.create_ensemble_model(lr_load_models_info, calibration=False)"
   ]
  },
  {
   "cell_type": "markdown",
   "id": "4eef4cff-0f95-4eba-9a0b-fca287387193",
   "metadata": {},
   "source": [
    "## Create Ensemble for all the ML models with optimal threasholds"
   ]
  },
  {
   "cell_type": "code",
   "execution_count": 8,
   "id": "2e4cad60-7b72-4576-82ec-af6140e78188",
   "metadata": {},
   "outputs": [],
   "source": [
    "hard_ensemble_model_xgb = utils.new_create_ensemble_model(xgb_load_models_info, use_optimum_threshold=True)\n",
    "hard_ensemble_model_cb = utils.new_create_ensemble_model(cb_load_models_info, use_optimum_threshold=True)\n",
    "hard_ensemble_model_lgbm = utils.new_create_ensemble_model(lgbm_load_models_info, use_optimum_threshold=True)\n",
    "hard_ensemble_model_gb = utils.new_create_ensemble_model(gb_load_models_info, use_optimum_threshold=True)\n",
    "hard_ensemble_model_rf = utils.new_create_ensemble_model(rf_load_models_info, use_optimum_threshold=True)\n",
    "hard_ensemble_model_nb = utils.new_create_ensemble_model(nb_load_models_info, use_optimum_threshold=True)\n",
    "hard_ensemble_model_svm = utils.new_create_ensemble_model(svm_load_models_info, use_optimum_threshold=True)\n",
    "hard_ensemble_model_knn = utils.new_create_ensemble_model(knn_load_models_info, use_optimum_threshold=True)\n",
    "hard_ensemble_model_lr = utils.new_create_ensemble_model(lr_load_models_info, use_optimum_threshold=True)\n",
    "\n",
    "hard_ensemble_model_xgb_non_calibrated = utils.new_create_ensemble_model(xgb_load_models_info, calibration=False, use_optimum_threshold=True)\n",
    "hard_ensemble_model_cb_non_calibrated = utils.new_create_ensemble_model(cb_load_models_info, calibration=False, use_optimum_threshold=True)\n",
    "hard_ensemble_model_lgbm_non_calibrated = utils.new_create_ensemble_model(lgbm_load_models_info, calibration=False, use_optimum_threshold=True)\n",
    "hard_ensemble_model_gb_non_calibrated = utils.new_create_ensemble_model(gb_load_models_info, calibration=False, use_optimum_threshold=True)\n",
    "hard_ensemble_model_rf_non_calibrated = utils.new_create_ensemble_model(rf_load_models_info, calibration=False, use_optimum_threshold=True)\n",
    "hard_ensemble_model_nb_non_calibrated = utils.new_create_ensemble_model(nb_load_models_info, calibration=False, use_optimum_threshold=True)\n",
    "hard_ensemble_model_svm_non_calibrated = utils.new_create_ensemble_model(svm_load_models_info, calibration=False, use_optimum_threshold=True)\n",
    "hard_ensemble_model_knn_non_calibrated = utils.new_create_ensemble_model(knn_load_models_info, calibration=False, use_optimum_threshold=True)\n",
    "hard_ensemble_model_lr_non_calibrated = utils.new_create_ensemble_model(lr_load_models_info, calibration=False, use_optimum_threshold=True)"
   ]
  },
  {
   "cell_type": "code",
   "execution_count": 9,
   "id": "5c91a4ac-bf4e-4937-8475-4ad1c20a054f",
   "metadata": {},
   "outputs": [
    {
     "ename": "NotFittedError",
     "evalue": "This Pipeline instance is not fitted yet. Call 'fit' with appropriate arguments before using this estimator.",
     "output_type": "error",
     "traceback": [
      "\u001b[0;31m---------------------------------------------------------------------------\u001b[0m",
      "\u001b[0;31mNotFittedError\u001b[0m                            Traceback (most recent call last)",
      "Cell \u001b[0;32mIn[9], line 1\u001b[0m\n\u001b[0;32m----> 1\u001b[0m \u001b[43mhard_ensemble_model_xgb\u001b[49m\u001b[38;5;241;43m.\u001b[39;49m\u001b[43mfit\u001b[49m\u001b[43m(\u001b[49m\u001b[43mX\u001b[49m\u001b[43m,\u001b[49m\u001b[43my\u001b[49m\u001b[43m)\u001b[49m\n",
      "File \u001b[0;32m~/projects/DIBHproject/venv/lib/python3.11/site-packages/sklearn/base.py:1474\u001b[0m, in \u001b[0;36m_fit_context.<locals>.decorator.<locals>.wrapper\u001b[0;34m(estimator, *args, **kwargs)\u001b[0m\n\u001b[1;32m   1467\u001b[0m     estimator\u001b[38;5;241m.\u001b[39m_validate_params()\n\u001b[1;32m   1469\u001b[0m \u001b[38;5;28;01mwith\u001b[39;00m config_context(\n\u001b[1;32m   1470\u001b[0m     skip_parameter_validation\u001b[38;5;241m=\u001b[39m(\n\u001b[1;32m   1471\u001b[0m         prefer_skip_nested_validation \u001b[38;5;129;01mor\u001b[39;00m global_skip_validation\n\u001b[1;32m   1472\u001b[0m     )\n\u001b[1;32m   1473\u001b[0m ):\n\u001b[0;32m-> 1474\u001b[0m     \u001b[38;5;28;01mreturn\u001b[39;00m \u001b[43mfit_method\u001b[49m\u001b[43m(\u001b[49m\u001b[43mestimator\u001b[49m\u001b[43m,\u001b[49m\u001b[43m \u001b[49m\u001b[38;5;241;43m*\u001b[39;49m\u001b[43margs\u001b[49m\u001b[43m,\u001b[49m\u001b[43m \u001b[49m\u001b[38;5;241;43m*\u001b[39;49m\u001b[38;5;241;43m*\u001b[39;49m\u001b[43mkwargs\u001b[49m\u001b[43m)\u001b[49m\n",
      "File \u001b[0;32m~/projects/DIBHproject/venv/lib/python3.11/site-packages/sklearn/ensemble/_voting.py:366\u001b[0m, in \u001b[0;36mVotingClassifier.fit\u001b[0;34m(self, X, y, sample_weight)\u001b[0m\n\u001b[1;32m    363\u001b[0m \u001b[38;5;28mself\u001b[39m\u001b[38;5;241m.\u001b[39mclasses_ \u001b[38;5;241m=\u001b[39m \u001b[38;5;28mself\u001b[39m\u001b[38;5;241m.\u001b[39mle_\u001b[38;5;241m.\u001b[39mclasses_\n\u001b[1;32m    364\u001b[0m transformed_y \u001b[38;5;241m=\u001b[39m \u001b[38;5;28mself\u001b[39m\u001b[38;5;241m.\u001b[39mle_\u001b[38;5;241m.\u001b[39mtransform(y)\n\u001b[0;32m--> 366\u001b[0m \u001b[38;5;28;01mreturn\u001b[39;00m \u001b[38;5;28;43msuper\u001b[39;49m\u001b[43m(\u001b[49m\u001b[43m)\u001b[49m\u001b[38;5;241;43m.\u001b[39;49m\u001b[43mfit\u001b[49m\u001b[43m(\u001b[49m\u001b[43mX\u001b[49m\u001b[43m,\u001b[49m\u001b[43m \u001b[49m\u001b[43mtransformed_y\u001b[49m\u001b[43m,\u001b[49m\u001b[43m \u001b[49m\u001b[43msample_weight\u001b[49m\u001b[43m)\u001b[49m\n",
      "File \u001b[0;32m~/projects/DIBHproject/venv/lib/python3.11/site-packages/sklearn/ensemble/_voting.py:89\u001b[0m, in \u001b[0;36m_BaseVoting.fit\u001b[0;34m(self, X, y, sample_weight)\u001b[0m\n\u001b[1;32m     83\u001b[0m \u001b[38;5;28;01mif\u001b[39;00m \u001b[38;5;28mself\u001b[39m\u001b[38;5;241m.\u001b[39mweights \u001b[38;5;129;01mis\u001b[39;00m \u001b[38;5;129;01mnot\u001b[39;00m \u001b[38;5;28;01mNone\u001b[39;00m \u001b[38;5;129;01mand\u001b[39;00m \u001b[38;5;28mlen\u001b[39m(\u001b[38;5;28mself\u001b[39m\u001b[38;5;241m.\u001b[39mweights) \u001b[38;5;241m!=\u001b[39m \u001b[38;5;28mlen\u001b[39m(\u001b[38;5;28mself\u001b[39m\u001b[38;5;241m.\u001b[39mestimators):\n\u001b[1;32m     84\u001b[0m     \u001b[38;5;28;01mraise\u001b[39;00m \u001b[38;5;167;01mValueError\u001b[39;00m(\n\u001b[1;32m     85\u001b[0m         \u001b[38;5;124m\"\u001b[39m\u001b[38;5;124mNumber of `estimators` and weights must be equal; got\u001b[39m\u001b[38;5;124m\"\u001b[39m\n\u001b[1;32m     86\u001b[0m         \u001b[38;5;124mf\u001b[39m\u001b[38;5;124m\"\u001b[39m\u001b[38;5;124m \u001b[39m\u001b[38;5;132;01m{\u001b[39;00m\u001b[38;5;28mlen\u001b[39m(\u001b[38;5;28mself\u001b[39m\u001b[38;5;241m.\u001b[39mweights)\u001b[38;5;132;01m}\u001b[39;00m\u001b[38;5;124m weights, \u001b[39m\u001b[38;5;132;01m{\u001b[39;00m\u001b[38;5;28mlen\u001b[39m(\u001b[38;5;28mself\u001b[39m\u001b[38;5;241m.\u001b[39mestimators)\u001b[38;5;132;01m}\u001b[39;00m\u001b[38;5;124m estimators\u001b[39m\u001b[38;5;124m\"\u001b[39m\n\u001b[1;32m     87\u001b[0m     )\n\u001b[0;32m---> 89\u001b[0m \u001b[38;5;28mself\u001b[39m\u001b[38;5;241m.\u001b[39mestimators_ \u001b[38;5;241m=\u001b[39m \u001b[43mParallel\u001b[49m\u001b[43m(\u001b[49m\u001b[43mn_jobs\u001b[49m\u001b[38;5;241;43m=\u001b[39;49m\u001b[38;5;28;43mself\u001b[39;49m\u001b[38;5;241;43m.\u001b[39;49m\u001b[43mn_jobs\u001b[49m\u001b[43m)\u001b[49m\u001b[43m(\u001b[49m\n\u001b[1;32m     90\u001b[0m \u001b[43m    \u001b[49m\u001b[43mdelayed\u001b[49m\u001b[43m(\u001b[49m\u001b[43m_fit_single_estimator\u001b[49m\u001b[43m)\u001b[49m\u001b[43m(\u001b[49m\n\u001b[1;32m     91\u001b[0m \u001b[43m        \u001b[49m\u001b[43mclone\u001b[49m\u001b[43m(\u001b[49m\u001b[43mclf\u001b[49m\u001b[43m)\u001b[49m\u001b[43m,\u001b[49m\n\u001b[1;32m     92\u001b[0m \u001b[43m        \u001b[49m\u001b[43mX\u001b[49m\u001b[43m,\u001b[49m\n\u001b[1;32m     93\u001b[0m \u001b[43m        \u001b[49m\u001b[43my\u001b[49m\u001b[43m,\u001b[49m\n\u001b[1;32m     94\u001b[0m \u001b[43m        \u001b[49m\u001b[43msample_weight\u001b[49m\u001b[38;5;241;43m=\u001b[39;49m\u001b[43msample_weight\u001b[49m\u001b[43m,\u001b[49m\n\u001b[1;32m     95\u001b[0m \u001b[43m        \u001b[49m\u001b[43mmessage_clsname\u001b[49m\u001b[38;5;241;43m=\u001b[39;49m\u001b[38;5;124;43m\"\u001b[39;49m\u001b[38;5;124;43mVoting\u001b[39;49m\u001b[38;5;124;43m\"\u001b[39;49m\u001b[43m,\u001b[49m\n\u001b[1;32m     96\u001b[0m \u001b[43m        \u001b[49m\u001b[43mmessage\u001b[49m\u001b[38;5;241;43m=\u001b[39;49m\u001b[38;5;28;43mself\u001b[39;49m\u001b[38;5;241;43m.\u001b[39;49m\u001b[43m_log_message\u001b[49m\u001b[43m(\u001b[49m\u001b[43mnames\u001b[49m\u001b[43m[\u001b[49m\u001b[43midx\u001b[49m\u001b[43m]\u001b[49m\u001b[43m,\u001b[49m\u001b[43m \u001b[49m\u001b[43midx\u001b[49m\u001b[43m \u001b[49m\u001b[38;5;241;43m+\u001b[39;49m\u001b[43m \u001b[49m\u001b[38;5;241;43m1\u001b[39;49m\u001b[43m,\u001b[49m\u001b[43m \u001b[49m\u001b[38;5;28;43mlen\u001b[39;49m\u001b[43m(\u001b[49m\u001b[43mclfs\u001b[49m\u001b[43m)\u001b[49m\u001b[43m)\u001b[49m\u001b[43m,\u001b[49m\n\u001b[1;32m     97\u001b[0m \u001b[43m    \u001b[49m\u001b[43m)\u001b[49m\n\u001b[1;32m     98\u001b[0m \u001b[43m    \u001b[49m\u001b[38;5;28;43;01mfor\u001b[39;49;00m\u001b[43m \u001b[49m\u001b[43midx\u001b[49m\u001b[43m,\u001b[49m\u001b[43m \u001b[49m\u001b[43mclf\u001b[49m\u001b[43m \u001b[49m\u001b[38;5;129;43;01min\u001b[39;49;00m\u001b[43m \u001b[49m\u001b[38;5;28;43menumerate\u001b[39;49m\u001b[43m(\u001b[49m\u001b[43mclfs\u001b[49m\u001b[43m)\u001b[49m\n\u001b[1;32m     99\u001b[0m \u001b[43m    \u001b[49m\u001b[38;5;28;43;01mif\u001b[39;49;00m\u001b[43m \u001b[49m\u001b[43mclf\u001b[49m\u001b[43m \u001b[49m\u001b[38;5;241;43m!=\u001b[39;49m\u001b[43m \u001b[49m\u001b[38;5;124;43m\"\u001b[39;49m\u001b[38;5;124;43mdrop\u001b[39;49m\u001b[38;5;124;43m\"\u001b[39;49m\n\u001b[1;32m    100\u001b[0m \u001b[43m\u001b[49m\u001b[43m)\u001b[49m\n\u001b[1;32m    102\u001b[0m \u001b[38;5;28mself\u001b[39m\u001b[38;5;241m.\u001b[39mnamed_estimators_ \u001b[38;5;241m=\u001b[39m Bunch()\n\u001b[1;32m    104\u001b[0m \u001b[38;5;66;03m# Uses 'drop' as placeholder for dropped estimators\u001b[39;00m\n",
      "File \u001b[0;32m~/projects/DIBHproject/venv/lib/python3.11/site-packages/sklearn/utils/parallel.py:67\u001b[0m, in \u001b[0;36mParallel.__call__\u001b[0;34m(self, iterable)\u001b[0m\n\u001b[1;32m     62\u001b[0m config \u001b[38;5;241m=\u001b[39m get_config()\n\u001b[1;32m     63\u001b[0m iterable_with_config \u001b[38;5;241m=\u001b[39m (\n\u001b[1;32m     64\u001b[0m     (_with_config(delayed_func, config), args, kwargs)\n\u001b[1;32m     65\u001b[0m     \u001b[38;5;28;01mfor\u001b[39;00m delayed_func, args, kwargs \u001b[38;5;129;01min\u001b[39;00m iterable\n\u001b[1;32m     66\u001b[0m )\n\u001b[0;32m---> 67\u001b[0m \u001b[38;5;28;01mreturn\u001b[39;00m \u001b[38;5;28;43msuper\u001b[39;49m\u001b[43m(\u001b[49m\u001b[43m)\u001b[49m\u001b[38;5;241;43m.\u001b[39;49m\u001b[38;5;21;43m__call__\u001b[39;49m\u001b[43m(\u001b[49m\u001b[43miterable_with_config\u001b[49m\u001b[43m)\u001b[49m\n",
      "File \u001b[0;32m~/projects/DIBHproject/venv/lib/python3.11/site-packages/joblib/parallel.py:1863\u001b[0m, in \u001b[0;36mParallel.__call__\u001b[0;34m(self, iterable)\u001b[0m\n\u001b[1;32m   1861\u001b[0m     output \u001b[38;5;241m=\u001b[39m \u001b[38;5;28mself\u001b[39m\u001b[38;5;241m.\u001b[39m_get_sequential_output(iterable)\n\u001b[1;32m   1862\u001b[0m     \u001b[38;5;28mnext\u001b[39m(output)\n\u001b[0;32m-> 1863\u001b[0m     \u001b[38;5;28;01mreturn\u001b[39;00m output \u001b[38;5;28;01mif\u001b[39;00m \u001b[38;5;28mself\u001b[39m\u001b[38;5;241m.\u001b[39mreturn_generator \u001b[38;5;28;01melse\u001b[39;00m \u001b[38;5;28;43mlist\u001b[39;49m\u001b[43m(\u001b[49m\u001b[43moutput\u001b[49m\u001b[43m)\u001b[49m\n\u001b[1;32m   1865\u001b[0m \u001b[38;5;66;03m# Let's create an ID that uniquely identifies the current call. If the\u001b[39;00m\n\u001b[1;32m   1866\u001b[0m \u001b[38;5;66;03m# call is interrupted early and that the same instance is immediately\u001b[39;00m\n\u001b[1;32m   1867\u001b[0m \u001b[38;5;66;03m# re-used, this id will be used to prevent workers that were\u001b[39;00m\n\u001b[1;32m   1868\u001b[0m \u001b[38;5;66;03m# concurrently finalizing a task from the previous call to run the\u001b[39;00m\n\u001b[1;32m   1869\u001b[0m \u001b[38;5;66;03m# callback.\u001b[39;00m\n\u001b[1;32m   1870\u001b[0m \u001b[38;5;28;01mwith\u001b[39;00m \u001b[38;5;28mself\u001b[39m\u001b[38;5;241m.\u001b[39m_lock:\n",
      "File \u001b[0;32m~/projects/DIBHproject/venv/lib/python3.11/site-packages/joblib/parallel.py:1792\u001b[0m, in \u001b[0;36mParallel._get_sequential_output\u001b[0;34m(self, iterable)\u001b[0m\n\u001b[1;32m   1790\u001b[0m \u001b[38;5;28mself\u001b[39m\u001b[38;5;241m.\u001b[39mn_dispatched_batches \u001b[38;5;241m+\u001b[39m\u001b[38;5;241m=\u001b[39m \u001b[38;5;241m1\u001b[39m\n\u001b[1;32m   1791\u001b[0m \u001b[38;5;28mself\u001b[39m\u001b[38;5;241m.\u001b[39mn_dispatched_tasks \u001b[38;5;241m+\u001b[39m\u001b[38;5;241m=\u001b[39m \u001b[38;5;241m1\u001b[39m\n\u001b[0;32m-> 1792\u001b[0m res \u001b[38;5;241m=\u001b[39m \u001b[43mfunc\u001b[49m\u001b[43m(\u001b[49m\u001b[38;5;241;43m*\u001b[39;49m\u001b[43margs\u001b[49m\u001b[43m,\u001b[49m\u001b[43m \u001b[49m\u001b[38;5;241;43m*\u001b[39;49m\u001b[38;5;241;43m*\u001b[39;49m\u001b[43mkwargs\u001b[49m\u001b[43m)\u001b[49m\n\u001b[1;32m   1793\u001b[0m \u001b[38;5;28mself\u001b[39m\u001b[38;5;241m.\u001b[39mn_completed_tasks \u001b[38;5;241m+\u001b[39m\u001b[38;5;241m=\u001b[39m \u001b[38;5;241m1\u001b[39m\n\u001b[1;32m   1794\u001b[0m \u001b[38;5;28mself\u001b[39m\u001b[38;5;241m.\u001b[39mprint_progress()\n",
      "File \u001b[0;32m~/projects/DIBHproject/venv/lib/python3.11/site-packages/sklearn/utils/parallel.py:129\u001b[0m, in \u001b[0;36m_FuncWrapper.__call__\u001b[0;34m(self, *args, **kwargs)\u001b[0m\n\u001b[1;32m    127\u001b[0m     config \u001b[38;5;241m=\u001b[39m {}\n\u001b[1;32m    128\u001b[0m \u001b[38;5;28;01mwith\u001b[39;00m config_context(\u001b[38;5;241m*\u001b[39m\u001b[38;5;241m*\u001b[39mconfig):\n\u001b[0;32m--> 129\u001b[0m     \u001b[38;5;28;01mreturn\u001b[39;00m \u001b[38;5;28;43mself\u001b[39;49m\u001b[38;5;241;43m.\u001b[39;49m\u001b[43mfunction\u001b[49m\u001b[43m(\u001b[49m\u001b[38;5;241;43m*\u001b[39;49m\u001b[43margs\u001b[49m\u001b[43m,\u001b[49m\u001b[43m \u001b[49m\u001b[38;5;241;43m*\u001b[39;49m\u001b[38;5;241;43m*\u001b[39;49m\u001b[43mkwargs\u001b[49m\u001b[43m)\u001b[49m\n",
      "File \u001b[0;32m~/projects/DIBHproject/venv/lib/python3.11/site-packages/sklearn/ensemble/_base.py:36\u001b[0m, in \u001b[0;36m_fit_single_estimator\u001b[0;34m(estimator, X, y, sample_weight, message_clsname, message)\u001b[0m\n\u001b[1;32m     34\u001b[0m \u001b[38;5;28;01melse\u001b[39;00m:\n\u001b[1;32m     35\u001b[0m     \u001b[38;5;28;01mwith\u001b[39;00m _print_elapsed_time(message_clsname, message):\n\u001b[0;32m---> 36\u001b[0m         \u001b[43mestimator\u001b[49m\u001b[38;5;241;43m.\u001b[39;49m\u001b[43mfit\u001b[49m\u001b[43m(\u001b[49m\u001b[43mX\u001b[49m\u001b[43m,\u001b[49m\u001b[43m \u001b[49m\u001b[43my\u001b[49m\u001b[43m)\u001b[49m\n\u001b[1;32m     37\u001b[0m \u001b[38;5;28;01mreturn\u001b[39;00m estimator\n",
      "File \u001b[0;32m~/projects/DIBH2024GB/utilities/utils.py:290\u001b[0m, in \u001b[0;36mThresholdClassifier.fit\u001b[0;34m(self, X, y)\u001b[0m\n\u001b[1;32m    289\u001b[0m \u001b[38;5;28;01mdef\u001b[39;00m \u001b[38;5;21mfit\u001b[39m(\u001b[38;5;28mself\u001b[39m, X, y):\n\u001b[0;32m--> 290\u001b[0m     \u001b[38;5;28;43mself\u001b[39;49m\u001b[38;5;241;43m.\u001b[39;49m\u001b[43mmodel\u001b[49m\u001b[38;5;241;43m.\u001b[39;49m\u001b[43mfit\u001b[49m\u001b[43m(\u001b[49m\u001b[43mX\u001b[49m\u001b[43m,\u001b[49m\u001b[43m \u001b[49m\u001b[43my\u001b[49m\u001b[43m)\u001b[49m\n\u001b[1;32m    291\u001b[0m     \u001b[38;5;28;01mreturn\u001b[39;00m \u001b[38;5;28mself\u001b[39m\n",
      "File \u001b[0;32m~/projects/DIBHproject/venv/lib/python3.11/site-packages/sklearn/base.py:1474\u001b[0m, in \u001b[0;36m_fit_context.<locals>.decorator.<locals>.wrapper\u001b[0;34m(estimator, *args, **kwargs)\u001b[0m\n\u001b[1;32m   1467\u001b[0m     estimator\u001b[38;5;241m.\u001b[39m_validate_params()\n\u001b[1;32m   1469\u001b[0m \u001b[38;5;28;01mwith\u001b[39;00m config_context(\n\u001b[1;32m   1470\u001b[0m     skip_parameter_validation\u001b[38;5;241m=\u001b[39m(\n\u001b[1;32m   1471\u001b[0m         prefer_skip_nested_validation \u001b[38;5;129;01mor\u001b[39;00m global_skip_validation\n\u001b[1;32m   1472\u001b[0m     )\n\u001b[1;32m   1473\u001b[0m ):\n\u001b[0;32m-> 1474\u001b[0m     \u001b[38;5;28;01mreturn\u001b[39;00m \u001b[43mfit_method\u001b[49m\u001b[43m(\u001b[49m\u001b[43mestimator\u001b[49m\u001b[43m,\u001b[49m\u001b[43m \u001b[49m\u001b[38;5;241;43m*\u001b[39;49m\u001b[43margs\u001b[49m\u001b[43m,\u001b[49m\u001b[43m \u001b[49m\u001b[38;5;241;43m*\u001b[39;49m\u001b[38;5;241;43m*\u001b[39;49m\u001b[43mkwargs\u001b[49m\u001b[43m)\u001b[49m\n",
      "File \u001b[0;32m~/projects/DIBHproject/venv/lib/python3.11/site-packages/sklearn/calibration.py:328\u001b[0m, in \u001b[0;36mCalibratedClassifierCV.fit\u001b[0;34m(self, X, y, sample_weight, **fit_params)\u001b[0m\n\u001b[1;32m    325\u001b[0m \u001b[38;5;28mself\u001b[39m\u001b[38;5;241m.\u001b[39mcalibrated_classifiers_ \u001b[38;5;241m=\u001b[39m []\n\u001b[1;32m    326\u001b[0m \u001b[38;5;28;01mif\u001b[39;00m \u001b[38;5;28mself\u001b[39m\u001b[38;5;241m.\u001b[39mcv \u001b[38;5;241m==\u001b[39m \u001b[38;5;124m\"\u001b[39m\u001b[38;5;124mprefit\u001b[39m\u001b[38;5;124m\"\u001b[39m:\n\u001b[1;32m    327\u001b[0m     \u001b[38;5;66;03m# `classes_` should be consistent with that of estimator\u001b[39;00m\n\u001b[0;32m--> 328\u001b[0m     \u001b[43mcheck_is_fitted\u001b[49m\u001b[43m(\u001b[49m\u001b[38;5;28;43mself\u001b[39;49m\u001b[38;5;241;43m.\u001b[39;49m\u001b[43mestimator\u001b[49m\u001b[43m,\u001b[49m\u001b[43m \u001b[49m\u001b[43mattributes\u001b[49m\u001b[38;5;241;43m=\u001b[39;49m\u001b[43m[\u001b[49m\u001b[38;5;124;43m\"\u001b[39;49m\u001b[38;5;124;43mclasses_\u001b[39;49m\u001b[38;5;124;43m\"\u001b[39;49m\u001b[43m]\u001b[49m\u001b[43m)\u001b[49m\n\u001b[1;32m    329\u001b[0m     \u001b[38;5;28mself\u001b[39m\u001b[38;5;241m.\u001b[39mclasses_ \u001b[38;5;241m=\u001b[39m \u001b[38;5;28mself\u001b[39m\u001b[38;5;241m.\u001b[39mestimator\u001b[38;5;241m.\u001b[39mclasses_\n\u001b[1;32m    331\u001b[0m     predictions, _ \u001b[38;5;241m=\u001b[39m _get_response_values(\n\u001b[1;32m    332\u001b[0m         estimator,\n\u001b[1;32m    333\u001b[0m         X,\n\u001b[1;32m    334\u001b[0m         response_method\u001b[38;5;241m=\u001b[39m[\u001b[38;5;124m\"\u001b[39m\u001b[38;5;124mdecision_function\u001b[39m\u001b[38;5;124m\"\u001b[39m, \u001b[38;5;124m\"\u001b[39m\u001b[38;5;124mpredict_proba\u001b[39m\u001b[38;5;124m\"\u001b[39m],\n\u001b[1;32m    335\u001b[0m     )\n",
      "File \u001b[0;32m~/projects/DIBHproject/venv/lib/python3.11/site-packages/sklearn/utils/validation.py:1622\u001b[0m, in \u001b[0;36mcheck_is_fitted\u001b[0;34m(estimator, attributes, msg, all_or_any)\u001b[0m\n\u001b[1;32m   1619\u001b[0m     \u001b[38;5;28;01mraise\u001b[39;00m \u001b[38;5;167;01mTypeError\u001b[39;00m(\u001b[38;5;124m\"\u001b[39m\u001b[38;5;132;01m%s\u001b[39;00m\u001b[38;5;124m is not an estimator instance.\u001b[39m\u001b[38;5;124m\"\u001b[39m \u001b[38;5;241m%\u001b[39m (estimator))\n\u001b[1;32m   1621\u001b[0m \u001b[38;5;28;01mif\u001b[39;00m \u001b[38;5;129;01mnot\u001b[39;00m _is_fitted(estimator, attributes, all_or_any):\n\u001b[0;32m-> 1622\u001b[0m     \u001b[38;5;28;01mraise\u001b[39;00m NotFittedError(msg \u001b[38;5;241m%\u001b[39m {\u001b[38;5;124m\"\u001b[39m\u001b[38;5;124mname\u001b[39m\u001b[38;5;124m\"\u001b[39m: \u001b[38;5;28mtype\u001b[39m(estimator)\u001b[38;5;241m.\u001b[39m\u001b[38;5;18m__name__\u001b[39m})\n",
      "\u001b[0;31mNotFittedError\u001b[0m: This Pipeline instance is not fitted yet. Call 'fit' with appropriate arguments before using this estimator."
     ]
    }
   ],
   "source": [
    "hard_ensemble_model_xgb.fit(X,y)"
   ]
  },
  {
   "cell_type": "markdown",
   "id": "bd654ace-8604-4cbd-9270-677a0b292324",
   "metadata": {},
   "source": [
    "## Fit the ensemble model on the training data"
   ]
  },
  {
   "cell_type": "code",
   "execution_count": null,
   "id": "fa666400-90f7-4a0d-acef-b7733d3f128a",
   "metadata": {},
   "outputs": [],
   "source": [
    "#First fit and then create ensemble\n",
    "#????????????????\n",
    "ensemble_model_xgb.fit(X,y)\n",
    "ensemble_model_cb.fit(X,y)\n",
    "ensemble_model_lgbm.fit(X,y)\n",
    "ensemble_model_gb.fit(X,y)\n",
    "ensemble_model_rf.fit(X,y)\n",
    "ensemble_model_nb.fit(X,y)\n",
    "ensemble_model_svm.fit(X,y)\n",
    "ensemble_model_knn.fit(X,y)\n",
    "ensemble_model_lr.fit(X,y)\n",
    "\n",
    "ensemble_model_xgb_non_calibrated.fit(X,y)\n",
    "ensemble_model_cb_non_calibrated.fit(X,y) \n",
    "ensemble_model_lgbm_non_calibrated.fit(X,y)\n",
    "ensemble_model_gb_non_calibrated.fit(X,y) \n",
    "ensemble_model_rf_non_calibrated.fit(X,y) \n",
    "ensemble_model_nb_non_calibrated.fit(X,y) \n",
    "ensemble_model_svm_non_calibrated.fit(X,y)\n",
    "ensemble_model_knn_non_calibrated.fit(X,y)\n",
    "ensemble_model_lr_non_calibrated.fit(X,y)\n",
    "\n",
    "\n",
    "hard_ensemble_model_xgb.fit(X,y)\n",
    "hard_ensemble_model_cb.fit(X,y)\n",
    "hard_ensemble_model_lgbm.fit(X,y)\n",
    "hard_ensemble_model_gb.fit(X,y)\n",
    "hard_ensemble_model_rf.fit(X,y)\n",
    "hard_ensemble_model_nb.fit(X,y)\n",
    "hard_ensemble_model_svm.fit(X,y)\n",
    "hard_ensemble_model_knn.fit(X,y)\n",
    "hard_ensemble_model_lr.fit(X,y)\n",
    "\n",
    "hard_ensemble_model_xgb_non_calibrated.fit(X,y)\n",
    "hard_ensemble_model_cb_non_calibrated.fit(X,y) \n",
    "hard_ensemble_model_lgbm_non_calibrated.fit(X,y)\n",
    "hard_ensemble_model_gb_non_calibrated.fit(X,y) \n",
    "hard_ensemble_model_rf_non_calibrated.fit(X,y) \n",
    "hard_ensemble_model_nb_non_calibrated.fit(X,y) \n",
    "hard_ensemble_model_svm_non_calibrated.fit(X,y)\n",
    "hard_ensemble_model_knn_non_calibrated.fit(X,y)\n",
    "hard_ensemble_model_lr_non_calibrated.fit(X,y)\n",
    "\n"
   ]
  },
  {
   "cell_type": "markdown",
   "id": "2a6fb687-5c41-448c-a33c-2d2bff3313ce",
   "metadata": {},
   "source": [
    "## Save all the ensemble models"
   ]
  },
  {
   "cell_type": "code",
   "execution_count": null,
   "id": "51edeaa0-b5d3-45af-ab88-86320ca4094a",
   "metadata": {},
   "outputs": [],
   "source": [
    "# joblib.dump(ensemble_model_xgb, '../results/models/xgb_ensemble_model')\n",
    "# joblib.dump(ensemble_model_cb, '../results/models/cb_ensemble_model')\n",
    "# joblib.dump(ensemble_model_lgbm, '../results/models/lgbm_ensemble_model')\n",
    "# joblib.dump(ensemble_model_gb, '../results/models/gb_ensemble_model')\n",
    "# joblib.dump(ensemble_model_rf, '../results/models/rf_ensemble_model')\n",
    "# joblib.dump(ensemble_model_nb, '../results/models/nb_ensemble_model')\n",
    "# joblib.dump(ensemble_model_svm, '../results/models/svm_ensemble_model')\n",
    "# joblib.dump(ensemble_model_lr, '../results/models/lr_ensemble_model')\n",
    "# joblib.dump(ensemble_model_knn, '../results/models/knn_ensemble_model')\n",
    "\n",
    "# # Save the non-calibrated models\n",
    "# joblib.dump(ensemble_model_xgb_non_calibrated, '../results/models/xgb_non_calibrated_ensemble_model')\n",
    "# joblib.dump(ensemble_model_cb_non_calibrated, '../results/models/cb_non_calibrated_ensemble_model')\n",
    "# joblib.dump(ensemble_model_lgbm_non_calibrated, '../results/models/lgbm_non_calibrated_ensemble_model')\n",
    "# joblib.dump(ensemble_model_gb_non_calibrated, '../results/models/gb_non_calibrated_ensemble_model')\n",
    "# joblib.dump(ensemble_model_rf_non_calibrated, '../results/models/rf_non_calibrated_ensemble_model')\n",
    "# joblib.dump(ensemble_model_nb_non_calibrated, '../results/models/nb_non_calibrated_ensemble_model')\n",
    "# joblib.dump(ensemble_model_svm_non_calibrated, '../results/models/svm_non_calibrated_ensemble_model')\n",
    "# joblib.dump(ensemble_model_lr_non_calibrated, '../results/models/lr_non_calibrated_ensemble_model')\n",
    "# joblib.dump(ensemble_model_knn_non_calibrated, '../results/models/knn_non_calibrated_ensemble_model')"
   ]
  },
  {
   "cell_type": "markdown",
   "id": "e0c9192c-3187-405a-bbc5-27d848ff1fa6",
   "metadata": {},
   "source": [
    "## Loading all the models"
   ]
  },
  {
   "cell_type": "code",
   "execution_count": null,
   "id": "0ad4f790-7db1-444a-981e-b9656333ec50",
   "metadata": {},
   "outputs": [],
   "source": [
    "# Load the saved models\n",
    "ensemble_model_xgb = joblib.load('../results/models/xgb_ensemble_model')\n",
    "ensemble_model_cb = joblib.load('../results/models/cb_ensemble_model')\n",
    "ensemble_model_lgbm = joblib.load('../results/models/lgbm_ensemble_model')\n",
    "ensemble_model_gb = joblib.load('../results/models/gb_ensemble_model')\n",
    "ensemble_model_rf = joblib.load('../results/models/rf_ensemble_model')\n",
    "ensemble_model_nb = joblib.load('../results/models/nb_ensemble_model')\n",
    "ensemble_model_svm = joblib.load('../results/models/svm_ensemble_model')\n",
    "ensemble_model_lr = joblib.load('../results/models/lr_ensemble_model')\n",
    "ensemble_model_knn = joblib.load('../results/models/knn_ensemble_model')\n",
    "\n",
    "# Load the saved non-calibrated models\n",
    "ensemble_model_xgb_non_calibrated = joblib.load('../results/models/xgb_non_calibrated_ensemble_model')\n",
    "ensemble_model_cb_non_calibrated = joblib.load('../results/models/cb_non_calibrated_ensemble_model')\n",
    "ensemble_model_lgbm_non_calibrated = joblib.load('../results/models/lgbm_non_calibrated_ensemble_model')\n",
    "ensemble_model_gb_non_calibrated = joblib.load('../results/models/gb_non_calibrated_ensemble_model')\n",
    "ensemble_model_rf_non_calibrated = joblib.load('../results/models/rf_non_calibrated_ensemble_model')\n",
    "ensemble_model_nb_non_calibrated = joblib.load('../results/models/nb_non_calibrated_ensemble_model')\n",
    "ensemble_model_svm_non_calibrated = joblib.load('../results/models/svm_non_calibrated_ensemble_model')\n",
    "ensemble_model_lr_non_calibrated = joblib.load('../results/models/lr_non_calibrated_ensemble_model')\n",
    "ensemble_model_knn_non_calibrated = joblib.load('../results/models/knn_non_calibrated_ensemble_model')\n"
   ]
  },
  {
   "cell_type": "markdown",
   "id": "3bc32922-457c-49b4-b3a5-3d768719864a",
   "metadata": {},
   "source": [
    "## Bootstrap Evaluation"
   ]
  },
  {
   "cell_type": "code",
   "execution_count": null,
   "id": "1429d079-4e8f-4aec-86b6-a479f3b1aeee",
   "metadata": {},
   "outputs": [],
   "source": [
    "# Create a list of the loaded models\n",
    "models = [ensemble_model_xgb, ensemble_model_cb, ensemble_model_lgbm, ensemble_model_gb,\n",
    "          ensemble_model_rf, ensemble_model_nb, ensemble_model_svm, ensemble_model_knn, \n",
    "          ensemble_model_lr]\n",
    "\n",
    "model_names = ['xgb', 'cb', 'lgbm', 'gb', 'rf', 'nb', 'svm', 'knn', 'lr']\n",
    "\n",
    "# Create a list of the loaded non-calibrated models\n",
    "non_calibrated_models = [ensemble_model_xgb_non_calibrated, ensemble_model_cb_non_calibrated, ensemble_model_lgbm_non_calibrated,\n",
    "                         ensemble_model_gb_non_calibrated, ensemble_model_rf_non_calibrated, ensemble_model_nb_non_calibrated, \n",
    "                         ensemble_model_svm_non_calibrated, ensemble_model_knn_non_calibrated, ensemble_model_lr_non_calibrated\n",
    "]\n",
    "\n",
    "non_calibrated_model_names = ['xgb_non_calibrated', 'cb_non_calibrated', 'lgbm_non_calibrated', 'gb_non_calibrated', 'rf_non_calibrated', \n",
    "                              'nb_non_calibrated', 'svm_non_calibrated', 'knn_non_calibrated', 'lr_non_calibrated'\n",
    "]\n",
    "\n"
   ]
  },
  {
   "cell_type": "code",
   "execution_count": null,
   "id": "d53b8495-3bac-4ee3-9af3-7f0c1a758bc6",
   "metadata": {},
   "outputs": [],
   "source": [
    "# probabilities_df_non_calibrated, metrics_df_non_calibrated = utils.evaluate_models_with_ci(non_calibrated_models, non_calibrated_model_names, \n",
    "#                                                                                    X_int_val, y_int_val)"
   ]
  },
  {
   "cell_type": "code",
   "execution_count": null,
   "id": "b4db3d5c-5c42-4c2b-aeed-da956dcb4ef0",
   "metadata": {},
   "outputs": [],
   "source": [
    "# probabilities_df_calibrated, metrics_df_calibrated = utils.evaluate_models_with_ci(models, model_names, X_int_val, y_int_val)"
   ]
  },
  {
   "cell_type": "markdown",
   "id": "72ed15b8-7c8a-42f9-a7b4-9046abc451fb",
   "metadata": {},
   "source": [
    "## Save the dataframes to CSV files"
   ]
  },
  {
   "cell_type": "code",
   "execution_count": null,
   "id": "f347985d-750a-4bc6-a28b-64f0a87294a9",
   "metadata": {},
   "outputs": [],
   "source": [
    "# probabilities_df_calibrated.to_csv('../results/int_val_data/model_probabilities_calibrated.csv', index=False)\n",
    "# metrics_df_calibrated.to_csv('../results/int_val_data/model_metrics_calibrated.csv', index=False)\n",
    "# probabilities_df_non_calibrated.to_csv('../results/int_val_data/model_probabilities_non_calibrated.csv', index=False)\n",
    "# metrics_df_non_calibrated.to_csv('../results/int_val_data/model_metrics_non_calibrated.csv', index=False)"
   ]
  },
  {
   "cell_type": "markdown",
   "id": "75cf983b-7eb3-44b6-b137-cf681cc38cec",
   "metadata": {},
   "source": [
    "## Save the dataframes as python objects"
   ]
  },
  {
   "cell_type": "code",
   "execution_count": null,
   "id": "3c6dff2e-732f-49cf-af05-56354fdd1103",
   "metadata": {},
   "outputs": [],
   "source": [
    "# joblib.dump(probabilities_df_calibrated, '../results/int_val_data/probabilities_df_calibrated.joblib')\n",
    "# joblib.dump(metrics_df_calibrated, '../results/int_val_data/metrics_df_calibrated.joblib')\n",
    "# joblib.dump(probabilities_df_non_calibrated, '../results/int_val_data/probabilities_df_non_calibrated.joblib')\n",
    "# joblib.dump(metrics_df_non_calibrated, '../results/int_val_data/metrics_df_non_calibrated.joblib')"
   ]
  },
  {
   "cell_type": "markdown",
   "id": "254581b6-935f-4708-bb8a-b0eda9a4f20d",
   "metadata": {},
   "source": [
    "## One shot evaluation"
   ]
  },
  {
   "cell_type": "code",
   "execution_count": null,
   "id": "c430c9a2-aba7-4edd-a409-32dbf48bafa2",
   "metadata": {},
   "outputs": [],
   "source": [
    "# Evaluate calibrated models\n",
    "probabilities_df_one_shot, metrics_df_oneshot = utils.evaluate_models(models, model_names, X_int_val, y_int_val)\n",
    "\n",
    "# Evaluate non-calibrated models\n",
    "probabilities_df_nc_one_shot, metrics_df_nc_one_shot = utils.evaluate_models(non_calibrated_models, non_calibrated_model_names, X_int_val, y_int_val)"
   ]
  },
  {
   "cell_type": "code",
   "execution_count": null,
   "id": "b3326aad-041b-4f32-9f1b-fcf47e9dee09",
   "metadata": {},
   "outputs": [],
   "source": [
    "# Save the dataframes to CSV files\n",
    "probabilities_df_one_shot.to_csv('../results/int_val_data/probabilities_df_one_shot.csv', index=False)\n",
    "metrics_df_oneshot.to_csv('../results/int_val_data/metrics_df_oneshot.csv', index=False)\n",
    "probabilities_df_nc_one_shot.to_csv('../results/int_val_data/probabilities_df_nc_one_shot.csv', index=False)\n",
    "metrics_df_nc_one_shot.to_csv('../results/int_val_data/metrics_df_nc_one_shot.csv', index=False)"
   ]
  },
  {
   "cell_type": "code",
   "execution_count": null,
   "id": "ac89137e-72ec-493f-9759-43625e87e287",
   "metadata": {},
   "outputs": [],
   "source": []
  },
  {
   "cell_type": "code",
   "execution_count": null,
   "id": "cbf2b1d2-2a92-4590-8623-fce8e7c048e5",
   "metadata": {},
   "outputs": [],
   "source": []
  },
  {
   "cell_type": "code",
   "execution_count": null,
   "id": "31d9e23e-eb95-4220-aa94-b42e1539e0e8",
   "metadata": {},
   "outputs": [],
   "source": []
  },
  {
   "cell_type": "code",
   "execution_count": null,
   "id": "1998d477-3790-49fd-afbb-ef3290386771",
   "metadata": {},
   "outputs": [],
   "source": []
  },
  {
   "cell_type": "code",
   "execution_count": null,
   "id": "93d208d9-4d32-41a2-aeff-26ecbfae35dc",
   "metadata": {},
   "outputs": [],
   "source": []
  },
  {
   "cell_type": "code",
   "execution_count": null,
   "id": "fca3e610-ae1f-419d-8eb7-fac83a33c2d4",
   "metadata": {},
   "outputs": [],
   "source": []
  },
  {
   "cell_type": "code",
   "execution_count": null,
   "id": "3d6ac2e5-81dd-4be9-a548-911ed99f56a2",
   "metadata": {},
   "outputs": [],
   "source": []
  },
  {
   "cell_type": "code",
   "execution_count": null,
   "id": "d7abefc5-217d-49da-995c-9a72244690b6",
   "metadata": {},
   "outputs": [],
   "source": []
  },
  {
   "cell_type": "code",
   "execution_count": null,
   "id": "99581441-229e-4069-9821-2939b8b7177d",
   "metadata": {},
   "outputs": [],
   "source": []
  },
  {
   "cell_type": "code",
   "execution_count": null,
   "id": "f49c8b86-b112-4ed9-9e02-59ea5ff260a1",
   "metadata": {},
   "outputs": [],
   "source": []
  },
  {
   "cell_type": "code",
   "execution_count": null,
   "id": "ba69919e-dbd3-482c-a3e8-b39d39d7da5c",
   "metadata": {},
   "outputs": [],
   "source": []
  },
  {
   "cell_type": "code",
   "execution_count": null,
   "id": "c0572268-ffeb-43ae-ad5e-ddeffb97f3f6",
   "metadata": {},
   "outputs": [],
   "source": []
  },
  {
   "cell_type": "code",
   "execution_count": null,
   "id": "7336e958-d3d9-4c0b-99f9-f38c1053d822",
   "metadata": {},
   "outputs": [],
   "source": []
  },
  {
   "cell_type": "code",
   "execution_count": null,
   "id": "2a8938dd-9c35-46a2-b463-ef69a686a362",
   "metadata": {},
   "outputs": [],
   "source": []
  },
  {
   "cell_type": "code",
   "execution_count": null,
   "id": "03ce4eaa-9c38-48cb-85a4-76fb6f076c32",
   "metadata": {},
   "outputs": [],
   "source": []
  },
  {
   "cell_type": "code",
   "execution_count": null,
   "id": "ca9b27f9-ce93-4923-9a92-1633dfbc21ee",
   "metadata": {},
   "outputs": [],
   "source": []
  },
  {
   "cell_type": "code",
   "execution_count": null,
   "id": "653e8a7e-66c5-4332-a9c2-6300b4369a6f",
   "metadata": {},
   "outputs": [],
   "source": []
  },
  {
   "cell_type": "code",
   "execution_count": null,
   "id": "f55ad5d6-1b27-4b36-a9bc-da7484a94883",
   "metadata": {},
   "outputs": [],
   "source": []
  },
  {
   "cell_type": "code",
   "execution_count": null,
   "id": "728a3937-b01b-4220-a82b-d3b15b4b9637",
   "metadata": {},
   "outputs": [],
   "source": []
  },
  {
   "cell_type": "code",
   "execution_count": null,
   "id": "72d144b5-bf60-4974-acb6-22ff87f41544",
   "metadata": {},
   "outputs": [],
   "source": []
  },
  {
   "cell_type": "code",
   "execution_count": null,
   "id": "c326460e-ea3b-4f79-9cd4-349c01d6b4f7",
   "metadata": {},
   "outputs": [],
   "source": []
  },
  {
   "cell_type": "code",
   "execution_count": null,
   "id": "6f8b60b6-f24c-4d4f-86e5-ed21216bab0b",
   "metadata": {},
   "outputs": [],
   "source": []
  },
  {
   "cell_type": "code",
   "execution_count": null,
   "id": "7ebf20e7-d5b5-451e-92d0-f7d84bff8a92",
   "metadata": {},
   "outputs": [],
   "source": []
  },
  {
   "cell_type": "code",
   "execution_count": null,
   "id": "7f1b9517-b8fb-4b2a-b458-2585036ffae5",
   "metadata": {},
   "outputs": [],
   "source": []
  }
 ],
 "metadata": {
  "kernelspec": {
   "display_name": "Python 3 (ipykernel)",
   "language": "python",
   "name": "python3"
  },
  "language_info": {
   "codemirror_mode": {
    "name": "ipython",
    "version": 3
   },
   "file_extension": ".py",
   "mimetype": "text/x-python",
   "name": "python",
   "nbconvert_exporter": "python",
   "pygments_lexer": "ipython3",
   "version": "3.11.1"
  }
 },
 "nbformat": 4,
 "nbformat_minor": 5
}
